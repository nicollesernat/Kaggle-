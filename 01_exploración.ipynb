{
  "cells": [
    {
      "cell_type": "markdown",
      "metadata": {
        "id": "view-in-github",
        "colab_type": "text"
      },
      "source": [
        "<a href=\"https://colab.research.google.com/github/nicollesernat/Kaggle-/blob/main/01_exploraci%C3%B3n.ipynb\" target=\"_parent\"><img src=\"https://colab.research.google.com/assets/colab-badge.svg\" alt=\"Open In Colab\"/></a>"
      ]
    },
    {
      "cell_type": "markdown",
      "id": "26d890dd",
      "metadata": {
        "id": "26d890dd"
      },
      "source": [
        "\n",
        "# 01 — Exploración de Datos\n"
      ]
    },
    {
      "cell_type": "code",
      "source": [
        "os.environ['KAGGLE_CONFIG_DIR'] = \".\""
      ],
      "metadata": {
        "id": "FTqvbM3MZKWK"
      },
      "id": "FTqvbM3MZKWK",
      "execution_count": null,
      "outputs": []
    },
    {
      "cell_type": "code",
      "source": [
        "!kaggle competitions download -c udea-ai-4-eng-20252-pruebas-saber-pro-colombia"
      ],
      "metadata": {
        "id": "lI6DTYcrZRiK"
      },
      "id": "lI6DTYcrZRiK",
      "execution_count": null,
      "outputs": []
    },
    {
      "cell_type": "code",
      "source": [
        "!unzip udea-ai-4-eng-20252-pruebas-saber-pro-colombia.zip"
      ],
      "metadata": {
        "id": "cakXia3eZUZ-"
      },
      "id": "cakXia3eZUZ-",
      "execution_count": null,
      "outputs": []
    },
    {
      "cell_type": "code",
      "source": [
        "df = pd.read_csv('train.csv')\n",
        "df.head(20)"
      ],
      "metadata": {
        "id": "Ka7ypMI3ZYZ3"
      },
      "id": "Ka7ypMI3ZYZ3",
      "execution_count": null,
      "outputs": []
    },
    {
      "cell_type": "markdown",
      "id": "96b1f3dd",
      "metadata": {
        "id": "96b1f3dd"
      },
      "source": [
        "## Parámetros"
      ]
    },
    {
      "cell_type": "code",
      "execution_count": null,
      "id": "2ee579d5",
      "metadata": {
        "id": "2ee579d5"
      },
      "outputs": [],
      "source": [
        "import pandas as pd\n",
        "import numpy as np\n",
        "import matplotlib.pyplot as plt\n",
        "from pathlib import Path\n",
        "\n",
        "#Definir como se va a llamar el archivo dentro del codigo\n",
        "CSV_PATH = globals().get(\"CSV_PATH\", \"train.csv\")\n",
        "\n",
        "#Columnas de interes\n",
        "ID_COL_INDEX = 0\n",
        "LOCALIDAD_COL_INDEX = 3\n",
        "TARGET_COL_INDEX = 16"
      ]
    },
    {
      "cell_type": "markdown",
      "id": "8528198d",
      "metadata": {
        "id": "8528198d"
      },
      "source": [
        "## Reporte de datos y de figuras"
      ]
    },
    {
      "cell_type": "code",
      "execution_count": null,
      "id": "c6a7a603",
      "metadata": {
        "id": "c6a7a603"
      },
      "outputs": [],
      "source": [
        "\n",
        "import re\n",
        "from pathlib import Path\n",
        "\n",
        "def running_in_colab():\n",
        "    try:\n",
        "        import google.colab  # type: ignore\n",
        "        return True\n",
        "    except Exception:\n",
        "        return False\n",
        "\n",
        "print(\"Sugerencias:\")\n",
        "print(\" - En Colab, usa rutas como '/content/outputs' o '/content/drive/MyDrive/tu_carpeta'.\")\n",
        "print(\" - Rutas de Windows como 'C:\\\\Users\\\\...' no existen en Colab (son de tu PC).\")\n",
        "\n",
        "out_dir_input = input(\"Carpeta de salida (vacío = './outputs'): \").strip()\n",
        "if not out_dir_input:\n",
        "    out_dir_input = \"outputs\"\n",
        "\n",
        "#Definir la ruta de exportacion\n",
        "\n",
        "  #Si se define una ruta de Windows, no es accesible desde la ruta de google Colabs\n",
        "\n",
        "if running_in_colab():\n",
        "    if re.match(r'^[A-Za-z]:\\\\\\\\', out_dir_input):\n",
        "        print(\"⚠ Ruta de Windows detectada. No es accesible desde Colab.\")\n",
        "        print(\"   Se usará '/content/outputs' por defecto. Si quieres Drive, ingresa una ruta que empiece por '/content/drive/MyDrive'.\")\n",
        "        out_dir_input = \"/content/outputs\"\n",
        "\n",
        "  #Por otro lado Drive es una buena ruta para guardar las exportaciones del archivo\n",
        "    if out_dir_input.startswith(\"/content/drive\"):\n",
        "        try:\n",
        "            from google.colab import drive  # type: ignore\n",
        "            drive.mount('/content/drive', force_remount=False)\n",
        "            print(\"Google Drive montado en /content/drive\")\n",
        "        except Exception as e:\n",
        "            print(\"No fue posible montar Google Drive:\", e)\n",
        "\n",
        "OUT_DIR = Path(out_dir_input).expanduser().resolve()\n",
        "OUT_DIR.mkdir(parents=True, exist_ok=True)\n",
        "print(\"Usando carpeta de salida:\", OUT_DIR)\n",
        "SAVE_FIGS = True\n",
        "\n",
        "def _safe_name(text):\n",
        "    import re as _re\n",
        "    text = str(text)\n",
        "    text = _re.sub(r\"[^\\\\w\\\\-]+\", \"_\", text).strip(\"_\")\n",
        "    return text[:60] if len(text) > 60 else text\n",
        "\n",
        "def save_current_fig(name_hint, dpi=120):\n",
        "    if SAVE_FIGS:\n",
        "        try:\n",
        "            fname = OUT_DIR / f\"{_safe_name(name_hint)}.png\"\n",
        "            OUT_DIR.mkdir(parents=True, exist_ok=True)\n",
        "            plt.savefig(fname, bbox_inches=\"tight\", dpi=dpi)\n",
        "            print(\"Figura guardada en:\", fname)\n",
        "        except Exception as e:\n",
        "            print(\"⚠️ No se pudo guardar la figura:\", e)\n"
      ]
    },
    {
      "cell_type": "markdown",
      "id": "02b8feaa",
      "metadata": {
        "id": "02b8feaa"
      },
      "source": [
        "## Preparando la exportación"
      ]
    },
    {
      "cell_type": "code",
      "execution_count": null,
      "id": "a0bd399e",
      "metadata": {
        "id": "a0bd399e"
      },
      "outputs": [],
      "source": [
        "\n",
        "import os\n",
        "\n",
        "def listar_out_dir():\n",
        "    print(\"Contenido de\", OUT_DIR, \":\")\n",
        "    for root, dirs, files in os.walk(OUT_DIR):\n",
        "        for f in files:\n",
        "            print(\" -\", Path(root) / f)\n",
        "\n",
        "def descargar_zip_outputs():\n",
        "    if not running_in_colab():\n",
        "        print(\"Descarga ZIP disponible solo en Colab.\")\n",
        "        return\n",
        "    import shutil\n",
        "    from google.colab import files  # type: ignore\n",
        "    zip_base = str(OUT_DIR)\n",
        "    zip_path = shutil.make_archive(zip_base, 'zip', root_dir=OUT_DIR)\n",
        "    print(\"ZIP creado en:\", zip_path)\n",
        "    files.download(zip_path)\n"
      ]
    },
    {
      "cell_type": "markdown",
      "id": "c90ab4aa",
      "metadata": {
        "id": "c90ab4aa"
      },
      "source": [
        "## Carga de datos"
      ]
    },
    {
      "cell_type": "code",
      "execution_count": null,
      "id": "cbacbccf",
      "metadata": {
        "id": "cbacbccf"
      },
      "outputs": [],
      "source": [
        "#Para verificar que el archivo si se abra y se esten visualizando todas las columnas\n",
        "csv_path = Path(CSV_PATH)\n",
        "assert csv_path.exists(), f\"No se encontró el archivo: {csv_path}\"\n",
        "\n",
        "df = pd.read_csv(csv_path, low_memory=False)\n",
        "print(\"Dimensiones (filas, columnas):\", df.shape)\n",
        "display(df.head(11))\n"
      ]
    },
    {
      "cell_type": "markdown",
      "id": "b7c5af26",
      "metadata": {
        "id": "b7c5af26"
      },
      "source": [
        "## Identificacion de Columnas de interes y de \"mayor valor\""
      ]
    },
    {
      "cell_type": "code",
      "execution_count": null,
      "id": "b70f4988",
      "metadata": {
        "id": "b70f4988"
      },
      "outputs": [],
      "source": [
        "\n",
        "def resolve_column(df, index_fallback, name_override):\n",
        "    if name_override and name_override in df.columns:\n",
        "        return name_override\n",
        "    if 0 <= index_fallback < len(df.columns):\n",
        "        return df.columns[index_fallback]\n",
        "    raise ValueError(\"No se pudo resolver la columna. Ajusta los parámetros.\")\n",
        "\n",
        "ID_COL = resolve_column(df, ID_COL_INDEX, ID_COL_NAME)\n",
        "LOCALIDAD_COL = resolve_column(df, LOCALIDAD_COL_INDEX, LOCALIDAD_COL_NAME)\n",
        "TARGET_COL = resolve_column(df, TARGET_COL_INDEX, TARGET_COL_NAME)\n",
        "\n",
        "print(\"ID_COL      →\", ID_COL)\n",
        "print(\"LOCALIDAD   →\", LOCALIDAD_COL)\n",
        "print(\"TARGET_COL  →\", TARGET_COL)\n"
      ]
    },
    {
      "cell_type": "markdown",
      "id": "40a17a55",
      "metadata": {
        "id": "40a17a55"
      },
      "source": [
        "## Información general (Tipo de datos dentro del archivo)\n"
      ]
    },
    {
      "cell_type": "code",
      "execution_count": null,
      "id": "80e9be12",
      "metadata": {
        "id": "80e9be12"
      },
      "outputs": [],
      "source": [
        "#Que tipo de variable contiene cada columna, nos dara una idea de si puede hacerse analisis cuantitativo o cualitativo.\n",
        "\n",
        "display(df.describe(include='all').transpose().head(20))\n",
        "print(\"\\nTipos de datos:\")\n",
        "print(df.dtypes.head(30))\n"
      ]
    },
    {
      "cell_type": "markdown",
      "id": "3313904f",
      "metadata": {
        "id": "3313904f"
      },
      "source": [
        "## Valores nulos por columna"
      ]
    },
    {
      "cell_type": "code",
      "execution_count": null,
      "id": "b918cc35",
      "metadata": {
        "id": "b918cc35"
      },
      "outputs": [],
      "source": [
        "#Definición de valores nulas por columna, para ver que datos pueden ser despreciados por no contener la información suficiente\n",
        "\n",
        "\n",
        "null_counts = df.isna().sum().sort_values(ascending=False)\n",
        "null_pct = (null_counts / len(df) * 100).round(2)\n",
        "null_summary = pd.DataFrame({\"nulos\": null_counts, \"% nulos\": null_pct})\n",
        "display(null_summary.head(30))\n",
        "\n",
        "top_n = 20\n",
        "subset = null_pct.head(top_n)\n",
        "plt.figure()\n",
        "cmap = plt.get_cmap('viridis')\n",
        "colors = cmap(np.linspace(0, 1, len(subset)))\n",
        "subset.plot(kind=\"bar\", color=colors)\n",
        "plt.title(\"% de valores nulos por columna (Top 20)\")\n",
        "plt.xlabel(\"Columna\")\n",
        "plt.ylabel(\"% nulos\")\n",
        "plt.tight_layout()\n",
        "save_current_fig(\"nulos_top20\")\n",
        "plt.show()\n"
      ]
    },
    {
      "cell_type": "markdown",
      "id": "a94f3bc1",
      "metadata": {
        "id": "a94f3bc1"
      },
      "source": [
        "## Distribución de la variable de Clase"
      ]
    },
    {
      "cell_type": "code",
      "execution_count": null,
      "id": "ff7854c4",
      "metadata": {
        "id": "ff7854c4"
      },
      "outputs": [],
      "source": [
        "\n",
        "if TARGET_COL in df.columns:\n",
        "    vc_target = df[TARGET_COL].value_counts(dropna=False)\n",
        "    display(vc_target.to_frame(name=\"conteo\"))\n",
        "    plt.figure()\n",
        "    cmap = plt.get_cmap('viridis')\n",
        "    colors = cmap(np.linspace(0, 1, len(vc_target)))\n",
        "    vc_target.plot(kind=\"bar\", color=colors)\n",
        "    plt.title(\"Distribución de la clase\")\n",
        "    plt.xlabel(\"Clase\")\n",
        "    plt.ylabel(\"Conteo\")\n",
        "    plt.tight_layout()\n",
        "    save_current_fig(\"distribucion_target\")\n",
        "    plt.show()\n",
        "else:\n",
        "    print(\"La columna TARGET_COL no está en el DataFrame.\")\n"
      ]
    },
    {
      "cell_type": "markdown",
      "id": "364173f6",
      "metadata": {
        "id": "364173f6"
      },
      "source": [
        "## Distribución por Localidad"
      ]
    },
    {
      "cell_type": "code",
      "execution_count": null,
      "id": "fde34b60",
      "metadata": {
        "id": "fde34b60"
      },
      "outputs": [],
      "source": [
        "#Como son tantas localidades decidimos mostrar solo 10. LAs 10 mas representativas.\n",
        "\n",
        "\n",
        "if LOCALIDAD_COL in df.columns:\n",
        "    vc_loc = df[LOCALIDAD_COL].value_counts(dropna=False).head(10)\n",
        "    display(vc_loc.to_frame(name=\"conteo\"))\n",
        "    plt.figure()\n",
        "    cmap = plt.get_cmap('viridis')\n",
        "    colors = cmap(np.linspace(0, 1, len(vc_loc)))\n",
        "    vc_loc.plot(kind=\"bar\", color=colors)\n",
        "    plt.title(\"Estudiantes por Localidad (Top 10)\")\n",
        "    plt.xlabel(\"Localidad\")\n",
        "    plt.ylabel(\"Conteo\")\n",
        "    plt.tight_layout()\n",
        "    save_current_fig(\"localidad_top10\")\n",
        "    plt.show()\n",
        "else:\n",
        "    print(\"La columna LOCALIDAD_COL no está en el DataFrame.\")\n"
      ]
    },
    {
      "cell_type": "markdown",
      "id": "7552d8e4",
      "metadata": {
        "id": "7552d8e4"
      },
      "source": [
        "##ANALISIS ESTADISTICO"
      ]
    },
    {
      "cell_type": "code",
      "execution_count": null,
      "id": "0423befb",
      "metadata": {
        "id": "0423befb"
      },
      "outputs": [],
      "source": [
        "#Histogramas\n",
        "\n",
        "numeric_cols = df.select_dtypes(include=[np.number]).columns.tolist()\n",
        "\n",
        "# Evitar usar la columna ID si es numérica pero solo identificador\n",
        "if ID_COL in numeric_cols:\n",
        "    numeric_cols = [c for c in numeric_cols if c != ID_COL]\n",
        "\n",
        "max_plots = 6\n",
        "for col in numeric_cols[:max_plots]:\n",
        "    plt.figure()\n",
        "    data = df[col].dropna().values\n",
        "    n, bins, patches = plt.hist(data, bins=30)\n",
        "    cmap = plt.get_cmap('plasma')\n",
        "    for i, p in enumerate(patches):\n",
        "        p.set_facecolor(cmap(i / max(1, len(patches) - 1)))\n",
        "    plt.title(f\"Histograma — {col}\")\n",
        "    plt.xlabel(col)\n",
        "    plt.ylabel(\"Frecuencia\")\n",
        "    plt.tight_layout()\n",
        "    save_current_fig(f\"hist_{col}\")\n",
        "    plt.show()\n",
        "\n",
        "if len(numeric_cols) == 0:\n",
        "    print(\"No se detectaron columnas numéricas para histogramas.\")\n",
        "elif len(numeric_cols) > max_plots:\n",
        "    print(f\"Se muestran solo {max_plots} histogramas de {len(numeric_cols)} columnas numéricas detectadas.\")\n"
      ]
    },
    {
      "cell_type": "code",
      "execution_count": null,
      "id": "e807e467",
      "metadata": {
        "id": "e807e467"
      },
      "outputs": [],
      "source": [
        "#Boxplots\n",
        "\n",
        "max_plots_box = 6\n",
        "cmap_box = plt.get_cmap('cividis')\n",
        "\n",
        "for idx, col in enumerate(numeric_cols[:max_plots_box]):\n",
        "    plt.figure()\n",
        "    ax = df[[col]].boxplot(patch_artist=True)\n",
        "    try:\n",
        "        for i, artist in enumerate(ax.artists):\n",
        "            artist.set_facecolor(cmap_box(idx / max(1, max_plots_box - 1)))\n",
        "    except Exception:\n",
        "        pass\n",
        "    plt.title(f\"Boxplot — {col}\")\n",
        "    plt.xlabel(\"\")\n",
        "    plt.ylabel(col)\n",
        "    plt.tight_layout()\n",
        "    save_current_fig(f\"box_{col}\")\n",
        "    plt.show()\n",
        "\n",
        "# Boxplots por clase\n",
        "if TARGET_COL in df.columns:\n",
        "    try:\n",
        "        n_classes = df[TARGET_COL].nunique(dropna=False)\n",
        "        if 2 <= n_classes <= 20 and len(numeric_cols) > 0:\n",
        "            for idx, col in enumerate(numeric_cols[:3]):\n",
        "                plt.figure()\n",
        "                ax = df[[col, TARGET_COL]].boxplot(column=col, by=TARGET_COL, grid=False, patch_artist=True)\n",
        "                try:\n",
        "                    cmap_class = plt.get_cmap('tab20')\n",
        "                    for i, artist in enumerate(ax.artists):\n",
        "                        artist.set_facecolor(cmap_class(i / max(1, len(ax.artists) - 1)))\n",
        "                except Exception:\n",
        "                    pass\n",
        "                plt.suptitle(\"\")\n",
        "                plt.title(f\"Boxplot — {col} por {TARGET_COL}\")\n",
        "                plt.xlabel(TARGET_COL)\n",
        "                plt.ylabel(col)\n",
        "                plt.tight_layout()\n",
        "                save_current_fig(f\"box_{col}_por_{TARGET_COL}\")\n",
        "                plt.show()\n",
        "        else:\n",
        "            print(f\"Se omitieron boxplots por clase (TARGET_COL con {n_classes} clases).\")\n",
        "    except Exception as e:\n",
        "        print(\"No fue posible generar boxplots por clase:\", e)\n"
      ]
    },
    {
      "cell_type": "markdown",
      "id": "1a8ac7c9",
      "metadata": {
        "id": "1a8ac7c9"
      },
      "source": [
        "##Almacenamiento de información"
      ]
    },
    {
      "cell_type": "code",
      "execution_count": null,
      "id": "63516c21",
      "metadata": {
        "id": "63516c21"
      },
      "outputs": [],
      "source": [
        "\n",
        "paths = []\n",
        "if TARGET_COL in df.columns:\n",
        "    p = OUT_DIR / \"conteo_target.csv\"\n",
        "    df[TARGET_COL].value_counts(dropna=False).to_csv(p); paths.append(p)\n",
        "if LOCALIDAD_COL in df.columns:\n",
        "    p = OUT_DIR / \"conteo_localidad.csv\"\n",
        "    df[LOCALIDAD_COL].value_counts(dropna=False).to_csv(p); paths.append(p)\n",
        "\n",
        "p = OUT_DIR / \"resumen_nulos.csv\"\n",
        "null_summary.to_csv(p); paths.append(p)\n",
        "\n",
        "p = OUT_DIR / \"describe_numerico.csv\"\n",
        "df.describe(include=[np.number]).transpose().to_csv(p); paths.append(p)\n",
        "p = OUT_DIR / \"describe_completo.csv\"\n",
        "df.describe(include='all').transpose().to_csv(p); paths.append(p)\n",
        "\n",
        "p = OUT_DIR / \"tipos_de_datos.csv\"\n",
        "df.dtypes.to_frame(\"dtype\").to_csv(p); paths.append(p)\n",
        "\n",
        "print(\"Archivos de salida guardados en:\")\n",
        "for p in paths:\n",
        "    print(\" -\", p)\n"
      ]
    },
    {
      "cell_type": "code",
      "execution_count": null,
      "id": "39ee5fd6",
      "metadata": {
        "id": "39ee5fd6"
      },
      "outputs": [],
      "source": [
        "listar_out_dir()  # Se ejecuta para ver lo generado\n",
        "descargar_zip_outputs()  # Se ejecuta para descargarlo\n"
      ]
    }
  ],
  "metadata": {
    "colab": {
      "provenance": [],
      "include_colab_link": true
    },
    "language_info": {
      "name": "python"
    },
    "kernelspec": {
      "name": "python3",
      "display_name": "Python 3"
    }
  },
  "nbformat": 4,
  "nbformat_minor": 5
}